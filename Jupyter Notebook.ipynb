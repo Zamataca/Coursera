{
 "cells": [
  {
   "cell_type": "markdown",
   "metadata": {
    "collapsed": true
   },
   "source": [
    "# My Jupyter Notebook on IBM Watson Studio"
   ]
  },
  {
   "cell_type": "markdown",
   "metadata": {},
   "source": [
    "**Ethan Mouton**\n",
    "\n",
    "Current Occupation: Lab Technician//Desired Occupation: Data Scientist"
   ]
  },
  {
   "cell_type": "markdown",
   "metadata": {},
   "source": [
    "*I am interested in Data Science because I want to use my natural math and analytical abilities to help people in tangible ways. I also enjoy using statistics to make sense of data sets and telling stories.*"
   ]
  },
  {
   "cell_type": "markdown",
   "metadata": {},
   "source": [
    "### The code below counts from 0 to 10 and prints the output."
   ]
  },
  {
   "cell_type": "code",
   "execution_count": 4,
   "metadata": {},
   "outputs": [
    {
     "name": "stdout",
     "output_type": "stream",
     "text": [
      "0\n",
      "1\n",
      "2\n",
      "3\n",
      "4\n",
      "5\n",
      "6\n",
      "7\n",
      "8\n",
      "9\n",
      "10\n"
     ]
    }
   ],
   "source": [
    "for x in range(11):\n",
    "    print(x)"
   ]
  },
  {
   "cell_type": "markdown",
   "metadata": {},
   "source": [
    "My favorite animes ranked in no order:\n",
    "* Samurai Champloo ![alt text](https://www.crunchyroll.com/imgsrv/display/thumbnail/1200x675/catalog/crunchyroll/7e3a0e65dc80c8a6e13dbe6b5807525b.jpe \"Samurai Champloo\")\n",
    "* Food Wars ![alt text](https://www.crunchyroll.com/imgsrv/display/thumbnail/1200x675/catalog/crunchyroll/4e954b4dff8729bf4476d76d8185bce6.jpe \"Food Wars\")\n",
    "* YuYu Hakusho ![alt text](https://www.crunchyroll.com/imgsrv/display/thumbnail/1200x675/catalog/crunchyroll/5a178ace09f0fac780b758a7e231db63.jpe \"YuYu Hakusho\")\n",
    "* Overlord ![alt text](https://www.crunchyroll.com/imgsrv/display/thumbnail/1200x675/catalog/crunchyroll/5b65797ccc7305b99cd8f1922d66d777.jpe \"Overlord\")\n",
    "* Orient ![alt text](https://www.crunchyroll.com/imgsrv/display/thumbnail/1200x675/catalog/crunchyroll/8581ee003684720b6c82bece6f43c104.jpe \"Orient\")\n",
    "\n",
    "All of the above can be found on [Crunchyroll](http://https://www.crunchyroll.com/)"
   ]
  },
  {
   "cell_type": "code",
   "execution_count": null,
   "metadata": {},
   "outputs": [],
   "source": []
  }
 ],
 "metadata": {
  "kernelspec": {
   "display_name": "Python 3.10",
   "language": "python",
   "name": "python3"
  },
  "language_info": {
   "codemirror_mode": {
    "name": "ipython",
    "version": 3
   },
   "file_extension": ".py",
   "mimetype": "text/x-python",
   "name": "python",
   "nbconvert_exporter": "python",
   "pygments_lexer": "ipython3",
   "version": "3.10.6"
  }
 },
 "nbformat": 4,
 "nbformat_minor": 1
}
